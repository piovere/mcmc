{
 "cells": [
  {
   "cell_type": "code",
   "execution_count": 46,
   "metadata": {
    "ExecuteTime": {
     "end_time": "2019-09-09T22:51:09.865018Z",
     "start_time": "2019-09-09T22:51:09.861888Z"
    }
   },
   "outputs": [],
   "source": [
    "import numpy as np\n",
    "from numba import jit\n",
    "import seaborn as sns\n",
    "import matplotlib.pyplot as plt"
   ]
  },
  {
   "cell_type": "code",
   "execution_count": 47,
   "metadata": {
    "ExecuteTime": {
     "end_time": "2019-09-09T22:51:09.871661Z",
     "start_time": "2019-09-09T22:51:09.867409Z"
    }
   },
   "outputs": [],
   "source": [
    "@jit(nopython=True)\n",
    "def weighted_random_choice(probs):\n",
    "    \"\"\"Pick a random number with weights in probs\"\"\"\n",
    "    # Verify probs is normalized\n",
    "    assert np.sum(probs) == 1\n",
    "\n",
    "    cs = np.cumsum(probs)\n",
    "\n",
    "    r = np.random.random()\n",
    "\n",
    "    ret = np.where(cs <= r)[0].shape[0]\n",
    "    #print(ret)\n",
    "\n",
    "    return ret"
   ]
  },
  {
   "cell_type": "code",
   "execution_count": 48,
   "metadata": {
    "ExecuteTime": {
     "end_time": "2019-09-09T22:51:09.876662Z",
     "start_time": "2019-09-09T22:51:09.873556Z"
    }
   },
   "outputs": [],
   "source": [
    "probs = np.array([0.23, 0.10, 0.19, 0.23, 0.25])"
   ]
  },
  {
   "cell_type": "code",
   "execution_count": 49,
   "metadata": {
    "ExecuteTime": {
     "end_time": "2019-09-09T22:51:10.741651Z",
     "start_time": "2019-09-09T22:51:09.879085Z"
    }
   },
   "outputs": [],
   "source": [
    "rides = [weighted_random_choice(probs) for _ in range(1000000)]"
   ]
  },
  {
   "cell_type": "code",
   "execution_count": 50,
   "metadata": {
    "ExecuteTime": {
     "end_time": "2019-09-09T22:51:11.680061Z",
     "start_time": "2019-09-09T22:51:10.743246Z"
    }
   },
   "outputs": [
    {
     "data": {
      "text/plain": [
       "<matplotlib.axes._subplots.AxesSubplot at 0x1a2592a470>"
      ]
     },
     "execution_count": 50,
     "metadata": {},
     "output_type": "execute_result"
    },
    {
     "data": {
      "image/png": "[encoded data removed]",
      "text/plain": [
       "<Figure size 432x288 with 1 Axes>"
      ]
     },
     "metadata": {
      "needs_background": "light"
     },
     "output_type": "display_data"
    }
   ],
   "source": [
    "sns.countplot(rides)"
   ]
  },
  {
   "cell_type": "code",
   "execution_count": 51,
   "metadata": {
    "ExecuteTime": {
     "end_time": "2019-09-09T22:51:11.974303Z",
     "start_time": "2019-09-09T22:51:11.681429Z"
    }
   },
   "outputs": [
    {
     "name": "stdout",
     "output_type": "stream",
     "text": [
      "0.230366\n",
      "0.099644\n",
      "0.190731\n",
      "0.229646\n",
      "0.249613\n",
      "1.0\n"
     ]
    }
   ],
   "source": [
    "p = [np.where(rides == i)[0].shape[0] / len(rides) for i in np.unique(rides)]\n",
    "for i in p:\n",
    "    print(i)\n",
    "print(np.sum(p))"
   ]
  },
  {
   "cell_type": "code",
   "execution_count": null,
   "metadata": {},
   "outputs": [],
   "source": []
  }
 ],
 "metadata": {
  "kernelspec": {
   "display_name": "Python [conda env:calc]",
   "language": "python",
   "name": "conda-env-calc-py"
  },
  "language_info": {
   "codemirror_mode": {
    "name": "ipython",
    "version": 3
   },
   "file_extension": ".py",
   "mimetype": "text/x-python",
   "name": "python",
   "nbconvert_exporter": "python",
   "pygments_lexer": "ipython3",
   "version": "3.6.8"
  }
 },
 "nbformat": 4,
 "nbformat_minor": 2
}
