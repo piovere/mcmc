{
 "cells": [
  {
   "cell_type": "code",
   "execution_count": 17,
   "metadata": {
    "ExecuteTime": {
     "end_time": "2019-09-09T22:39:41.143400Z",
     "start_time": "2019-09-09T22:39:41.140702Z"
    }
   },
   "outputs": [],
   "source": [
    "import numpy as np\n",
    "from numba import jit\n",
    "import seaborn as sns\n",
    "import matplotlib.pyplot as plt"
   ]
  },
  {
   "cell_type": "code",
   "execution_count": 18,
   "metadata": {
    "ExecuteTime": {
     "end_time": "2019-09-09T22:39:41.150568Z",
     "start_time": "2019-09-09T22:39:41.145718Z"
    }
   },
   "outputs": [],
   "source": [
    "@jit(nopython=True)\n",
    "def weighted_random_choice(probs):\n",
    "    \"\"\"Pick a random number with weights in probs\"\"\"\n",
    "    # Verify probs is normalized\n",
    "    assert np.sum(probs) == 1\n",
    "\n",
    "    cs = np.cumsum(probs)\n",
    "\n",
    "    r = np.random.random()\n",
    "\n",
    "    ret = np.where(cs <= r)[0].shape[0]\n",
    "    #print(ret)\n",
    "\n",
    "    return ret"
   ]
  },
  {
   "cell_type": "code",
   "execution_count": 19,
   "metadata": {
    "ExecuteTime": {
     "end_time": "2019-09-09T22:39:41.155673Z",
     "start_time": "2019-09-09T22:39:41.152384Z"
    }
   },
   "outputs": [],
   "source": [
    "probs = np.array([0.23, 0.10, 0.19, 0.23, 0.25])"
   ]
  },
  {
   "cell_type": "code",
   "execution_count": 20,
   "metadata": {
    "ExecuteTime": {
     "end_time": "2019-09-09T22:39:42.041435Z",
     "start_time": "2019-09-09T22:39:41.158114Z"
    }
   },
   "outputs": [],
   "source": [
    "rides = [weighted_random_choice(probs) for _ in range(1000000)]"
   ]
  },
  {
   "cell_type": "code",
   "execution_count": 26,
   "metadata": {
    "ExecuteTime": {
     "end_time": "2019-09-09T22:44:17.856236Z",
     "start_time": "2019-09-09T22:44:16.899142Z"
    }
   },
   "outputs": [
    {
     "data": {
      "text/plain": [
       "<matplotlib.axes._subplots.AxesSubplot at 0x1a25a10ba8>"
      ]
     },
     "execution_count": 26,
     "metadata": {},
     "output_type": "execute_result"
    },
    {
     "data": {
      "image/png": "[encoded data removed]",
      "text/plain": [
       "<Figure size 432x288 with 1 Axes>"
      ]
     },
     "metadata": {
      "needs_background": "light"
     },
     "output_type": "display_data"
    }
   ],
   "source": [
    "sns.countplot(rides)"
   ]
  },
  {
   "cell_type": "code",
   "execution_count": 22,
   "metadata": {
    "ExecuteTime": {
     "end_time": "2019-09-09T22:39:42.782084Z",
     "start_time": "2019-09-09T22:39:42.478887Z"
    }
   },
   "outputs": [
    {
     "name": "stdout",
     "output_type": "stream",
     "text": [
      "0.230118\n",
      "0.099558\n",
      "0.19066\n",
      "0.228804\n",
      "0.25086\n"
     ]
    }
   ],
   "source": [
    "for i in np.unique(rides):\n",
    "    print(np.where(rides == i)[0].shape[0] / len(rides))"
   ]
  },
  {
   "cell_type": "code",
   "execution_count": null,
   "metadata": {},
   "outputs": [],
   "source": []
  }
 ],
 "metadata": {
  "kernelspec": {
   "display_name": "Python [conda env:calc]",
   "language": "python",
   "name": "conda-env-calc-py"
  },
  "language_info": {
   "codemirror_mode": {
    "name": "ipython",
    "version": 3
   },
   "file_extension": ".py",
   "mimetype": "text/x-python",
   "name": "python",
   "nbconvert_exporter": "python",
   "pygments_lexer": "ipython3",
   "version": "3.6.8"
  }
 },
 "nbformat": 4,
 "nbformat_minor": 2
}
